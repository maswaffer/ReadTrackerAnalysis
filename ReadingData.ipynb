{
 "cells": [
  {
   "cell_type": "code",
   "execution_count": 42,
   "metadata": {},
   "outputs": [],
   "source": [
    "import json\n",
    "import pandas as pd\n",
    "import datetime\n",
    "import numpy as np\n",
    "import calendar\n",
    "\n",
    "with open('../Data/readtracker.json', 'r') as fp:\n",
    "    d = json.load(fp)\n"
   ]
  },
  {
   "cell_type": "code",
   "execution_count": 30,
   "metadata": {},
   "outputs": [],
   "source": [
    "\n",
    "def get_sessions(d):\n",
    "    sessions = pd.DataFrame(columns=['title', 'date', 'timespent', 'finished'])\n",
    "    i = 0\n",
    "\n",
    "    for book in d[\"books\"]:\n",
    "        title = book[\"title\"]\n",
    "        finished = None\n",
    "        if book[\"state\"] == \"Finished\":\n",
    "            finished = datetime.datetime.fromtimestamp(book[\"current_position_timestamp\"]/1000)\n",
    "        for session in book[\"sessions\"]:\n",
    "            i+=1\n",
    "            date = datetime.datetime.fromtimestamp(session[\"timestamp\"]/1000)\n",
    "            timespent = session[\"duration_seconds\"] / 3600\n",
    "            sessions.loc[i] = [title, date, timespent , finished]\n",
    "    sessions.set_index(\"date\", drop=False)\n",
    "    return sessions"
   ]
  },
  {
   "cell_type": "code",
   "execution_count": 31,
   "metadata": {},
   "outputs": [],
   "source": [
    "def books_for_year(year, sessions):\n",
    "    sessionsForYear = sessions[(sessions['date'] > np.datetime64(datetime.datetime(year, 1, 1))) & (sessions['date'] < np.datetime64(datetime.datetime(year, 12, 31)))].groupby(['title']).sum()\n",
    "    totalTime = sessionsForYear['timespent'].sum()\n",
    "    return sessionsForYear, totalTime\n",
    "\n",
    "def sessions_for_year(year, sessions):\n",
    "    sessionsForYear = sessions[(sessions['date'] > np.datetime64(datetime.datetime(year, 1, 1))) & (sessions['date'] < np.datetime64(datetime.datetime(year, 12, 31)))]\n",
    "    totalTime = sessionsForYear['timespent'].sum()\n",
    "    return sessionsForYear, totalTime\n",
    "\n",
    "def targetForDate(date, goalforyear):\n",
    "    doy = date.timetuple().tm_yday\n",
    "    total = 364 if calendar.isleap(2020) else 365\n",
    "    pct = doy / total\n",
    "    return pct * goalforyear"
   ]
  },
  {
   "cell_type": "code",
   "execution_count": 40,
   "metadata": {},
   "outputs": [
    {
     "name": "stdout",
     "output_type": "stream",
     "text": [
      "(                                                 title  \\\n",
      "210                                            Kennedy   \n",
      "211                                            Kennedy   \n",
      "212                                            Kennedy   \n",
      "213                                            Kennedy   \n",
      "214                                            Kennedy   \n",
      "215                                            Kennedy   \n",
      "229  The Science of Trust: Emotional Attunement for...   \n",
      "231                                         Polysecure   \n",
      "232                                         Polysecure   \n",
      "233                                         Polysecure   \n",
      "234                                         Polysecure   \n",
      "235                                         Polysecure   \n",
      "236                                   The Last Lecture   \n",
      "237                                   The Last Lecture   \n",
      "238                           Ethics in the Real World   \n",
      "239                           Ethics in the Real World   \n",
      "\n",
      "                       date  timespent                    finished  \n",
      "210 2021-01-05 23:49:04.998   0.530000                        None  \n",
      "211 2021-01-08 23:16:17.046   0.378611                        None  \n",
      "212 2021-01-09 23:02:46.031   1.711389                        None  \n",
      "213 2021-01-17 16:48:16.476   0.220278                        None  \n",
      "214 2021-01-17 19:21:33.705   1.016111                        None  \n",
      "215 2021-01-17 23:01:40.334   0.938056                        None  \n",
      "229 2021-01-10 23:26:57.146   1.608889  2021-01-10 23:26:57.146000  \n",
      "231 2021-01-04 22:47:52.695   0.273889  2021-01-10 21:19:44.664000  \n",
      "232 2021-01-05 23:07:46.057   0.319167  2021-01-10 21:19:44.664000  \n",
      "233 2021-01-08 21:46:41.682   0.250556  2021-01-10 21:19:44.664000  \n",
      "234 2021-01-08 22:30:19.609   0.453056  2021-01-10 21:19:44.664000  \n",
      "235 2021-01-10 21:19:44.664   0.943333  2021-01-10 21:19:44.664000  \n",
      "236 2021-01-11 23:12:53.453   1.860278  2021-01-12 22:01:27.367000  \n",
      "237 2021-01-12 22:01:27.367   1.453611  2021-01-12 22:01:27.367000  \n",
      "238 2021-01-13 23:46:23.876   0.278333                        None  \n",
      "239 2021-01-14 23:33:08.184   0.667222                        None  , 12.902777777777779)\n",
      "18.049450549450547\n"
     ]
    }
   ],
   "source": [
    "sessions = get_sessions(d)\n",
    "#print(books_for_year(2021, sessions))\n",
    "print(sessions_for_year(2021, sessions))\n",
    "print(targetForDate(datetime.datetime.today(), 365))"
   ]
  },
  {
   "cell_type": "code",
   "execution_count": 38,
   "metadata": {},
   "outputs": [
    {
     "data": {
      "text/plain": [
       "<AxesSubplot:xlabel='date'>"
      ]
     },
     "execution_count": 38,
     "metadata": {},
     "output_type": "execute_result"
    },
    {
     "data": {
      "text/plain": [
       "<Figure size 432x288 with 0 Axes>"
      ]
     },
     "metadata": {},
     "output_type": "display_data"
    },
    {
     "data": {
      "image/png": "[encoded data removed]",
      "text/plain": [
       "<Figure size 432x288 with 1 Axes>"
      ]
     },
     "metadata": {
      "needs_background": "light"
     },
     "output_type": "display_data"
    }
   ],
   "source": [
    "import matplotlib.pyplot as plt\n",
    "plt.figure()\n",
    "sessions2021, _ = sessions_for_year(2021, sessions)\n",
    "sessions2021.plot.bar(x=\"date\", y=\"timespent\")"
   ]
  },
  {
   "cell_type": "code",
   "execution_count": null,
   "metadata": {},
   "outputs": [],
   "source": []
  }
 ],
 "metadata": {
  "kernelspec": {
   "display_name": "Python 3",
   "language": "python",
   "name": "python3"
  },
  "language_info": {
   "codemirror_mode": {
    "name": "ipython",
    "version": 3
   },
   "file_extension": ".py",
   "mimetype": "text/x-python",
   "name": "python",
   "nbconvert_exporter": "python",
   "pygments_lexer": "ipython3",
   "version": "3.8.5"
  }
 },
 "nbformat": 4,
 "nbformat_minor": 4
}
